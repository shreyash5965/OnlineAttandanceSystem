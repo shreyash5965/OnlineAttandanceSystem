{
 "cells": [
  {
   "cell_type": "code",
   "execution_count": 1,
   "id": "6d232cf9-c295-4c5f-b989-84007e0e5032",
   "metadata": {},
   "outputs": [
    {
     "name": "stdout",
     "output_type": "stream",
     "text": [
      "Images and labels have been inserted into the database.\n"
     ]
    }
   ],
   "source": [
    "import os\n",
    "import cv2\n",
    "import sqlite3\n",
    "import numpy as np\n",
    "\n",
    "# Connect to SQLite database\n",
    "conn = sqlite3.connect('face_recognition.db')\n",
    "cursor = conn.cursor()\n",
    "\n",
    "# Create table to store face images\n",
    "cursor.execute('''\n",
    "CREATE TABLE IF NOT EXISTS faces (\n",
    "    id INTEGER PRIMARY KEY AUTOINCREMENT,\n",
    "    name TEXT,\n",
    "    image BLOB\n",
    ")\n",
    "''')\n",
    "\n",
    "# Function to convert image to binary\n",
    "def convert_to_binary(image_path):\n",
    "    image = cv2.imread(image_path, cv2.IMREAD_GRAYSCALE)\n",
    "    image = cv2.resize(image, (64, 64))  # Ensure consistent image size\n",
    "    _, buffer = cv2.imencode('.jpg', image)\n",
    "    return buffer.tobytes()\n",
    "\n",
    "# Path to the dataset directory\n",
    "dataset_path = 'dataset_img'\n",
    "\n",
    "# Iterate through each person (folder)\n",
    "for person_name in os.listdir(dataset_path):\n",
    "    person_folder = os.path.join(dataset_path, person_name)\n",
    "    \n",
    "    # Check if it's a directory\n",
    "    if os.path.isdir(person_folder):\n",
    "        for image_name in os.listdir(person_folder):\n",
    "            image_path = os.path.join(person_folder, image_name)\n",
    "            \n",
    "            # Convert image to binary\n",
    "            image_blob = convert_to_binary(image_path)\n",
    "            \n",
    "            # Insert image into the database\n",
    "            cursor.execute('INSERT INTO faces (name, image) VALUES (?, ?)', (person_name, image_blob))\n",
    "            conn.commit()\n",
    "\n",
    "conn.close()\n",
    "print(\"Images and labels have been inserted into the database.\")"
   ]
  },
  {
   "cell_type": "code",
   "execution_count": 22,
   "id": "a61615e6-45e8-405c-afaf-1204263862d1",
   "metadata": {},
   "outputs": [],
   "source": [
    "import numpy as np\n",
    "import cv2\n",
    "import sqlite3\n",
    "\n",
    "def fetch_images_from_db():\n",
    "    conn = sqlite3.connect('face_recognition.db')\n",
    "    cursor = conn.cursor()\n",
    "\n",
    "    cursor.execute('SELECT name, image FROM faces')\n",
    "    rows = cursor.fetchall()\n",
    "    conn.close()\n",
    "\n",
    "    names = []\n",
    "    images = []\n",
    "\n",
    "    for row in rows:\n",
    "        name, image_blob = row\n",
    "        image_array = np.frombuffer(image_blob, np.uint8)\n",
    "        image = cv2.imdecode(image_array, cv2.IMREAD_GRAYSCALE)\n",
    "        image = cv2.resize(image, (200, 200))  # Ensure consistent size\n",
    "        names.append(name)\n",
    "        images.append(image)\n",
    "\n",
    "    return names, images\n",
    "\n",
    "def preprocess_images(images):\n",
    "    processed_images = []\n",
    "    for image in images:\n",
    "        processed_images.append(image.flatten())\n",
    "    return np.array(processed_images)"
   ]
  },
  {
   "cell_type": "code",
   "execution_count": 18,
   "id": "35184ff3-280a-4bc5-9912-134ce963e813",
   "metadata": {},
   "outputs": [],
   "source": [
    "from sklearn.decomposition import PCA\n",
    "\n",
    "names, images = fetch_images_from_db()\n",
    "X = preprocess_images(images)\n",
    "\n",
    "n_components = min(X.shape[0], X.shape[1], 50)  # Limit to 50 components or the minimum of samples/features\n",
    "pca = PCA(n_components=n_components)\n",
    "X_pca = pca.fit_transform(X)\n"
   ]
  },
  {
   "cell_type": "code",
   "execution_count": 19,
   "id": "b790e279-3176-47dc-8902-5c8b8f02a2ea",
   "metadata": {},
   "outputs": [
    {
     "name": "stdout",
     "output_type": "stream",
     "text": [
      "Model accuracy: 0.2903225806451613\n"
     ]
    }
   ],
   "source": [
    "from sklearn.ensemble import RandomForestClassifier\n",
    "from sklearn.model_selection import train_test_split\n",
    "\n",
    "X_train, X_test, y_train, y_test = train_test_split(X_pca, names, test_size=0.2, random_state=42)\n",
    "\n",
    "rf = RandomForestClassifier(n_estimators=100, random_state=42)\n",
    "rf.fit(X_train, y_train)\n",
    "\n",
    "# Evaluate the model\n",
    "accuracy = rf.score(X_test, y_test)\n",
    "print(\"Model accuracy:\", accuracy)\n"
   ]
  },
  {
   "cell_type": "code",
   "execution_count": 20,
   "id": "812d0608-198e-43a3-8d18-7bf2ff54dd5d",
   "metadata": {},
   "outputs": [],
   "source": [
    "# Initialize webcam\n",
    "cap = cv2.VideoCapture(0)\n",
    "\n",
    "while True:\n",
    "    ret, frame = cap.read()\n",
    "    gray = cv2.cvtColor(frame, cv2.COLOR_BGR2GRAY)\n",
    "\n",
    "    # Detect faces in the frame\n",
    "    face_cascade = cv2.CascadeClassifier(cv2.data.haarcascades + 'haarcascade_frontalface_default.xml')\n",
    "    faces = face_cascade.detectMultiScale(gray, scaleFactor=1.1, minNeighbors=5, minSize=(30, 30))\n",
    "\n",
    "    for (x, y, w, h) in faces:\n",
    "        roi_gray = gray[y:y+h, x:x+w]\n",
    "        roi_gray_resized = cv2.resize(roi_gray, (200, 200))  # Ensure consistent size\n",
    "        flattened_face = roi_gray_resized.flatten()\n",
    "        pca_face = pca.transform(flattened_face.reshape(1, -1))\n",
    "\n",
    "        # Predict the person\n",
    "        probabilities = rf.predict_proba(pca_face)[0]\n",
    "        max_prob_index = np.argmax(probabilities)\n",
    "        confidence = probabilities[max_prob_index]\n",
    "        if confidence > 0.5:  # Adjust the threshold as needed\n",
    "            name = rf.classes_[max_prob_index]\n",
    "        else:\n",
    "            name = \"Unknown\"\n",
    "\n",
    "        # Draw a rectangle around the face\n",
    "        cv2.rectangle(frame, (x, y), (x+w, y+h), (0, 255, 0), 2)\n",
    "\n",
    "        # Put name outside the rectangle\n",
    "        cv2.putText(frame, name, (x, y-10), cv2.FONT_HERSHEY_SIMPLEX, 0.9, (36, 255, 12), 2)\n",
    "\n",
    "    # Display the resulting frame\n",
    "    cv2.imshow('Face Recognition', frame)\n",
    "\n",
    "    if cv2.waitKey(1) & 0xFF == ord('q'):\n",
    "        break\n",
    "\n",
    "cap.release()\n",
    "cv2.destroyAllWindows()\n"
   ]
  },
  {
   "cell_type": "code",
   "execution_count": null,
   "id": "c68859d5-0159-4551-af91-a95df45861ed",
   "metadata": {},
   "outputs": [],
   "source": []
  }
 ],
 "metadata": {
  "kernelspec": {
   "display_name": "Python 3 (ipykernel)",
   "language": "python",
   "name": "python3"
  },
  "language_info": {
   "codemirror_mode": {
    "name": "ipython",
    "version": 3
   },
   "file_extension": ".py",
   "mimetype": "text/x-python",
   "name": "python",
   "nbconvert_exporter": "python",
   "pygments_lexer": "ipython3",
   "version": "3.12.3"
  }
 },
 "nbformat": 4,
 "nbformat_minor": 5
}
