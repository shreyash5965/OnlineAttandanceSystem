{
 "cells": [
  {
   "cell_type": "code",
   "execution_count": 6,
   "id": "291f4638-2608-4478-95ee-b1c96cc2fd3c",
   "metadata": {},
   "outputs": [
    {
     "ename": "ModuleNotFoundError",
     "evalue": "No module named 'insightface'",
     "output_type": "error",
     "traceback": [
      "\u001b[1;31m---------------------------------------------------------------------------\u001b[0m",
      "\u001b[1;31mModuleNotFoundError\u001b[0m                       Traceback (most recent call last)",
      "Cell \u001b[1;32mIn[6], line 2\u001b[0m\n\u001b[0;32m      1\u001b[0m \u001b[38;5;28;01mimport\u001b[39;00m \u001b[38;5;21;01mcv2\u001b[39;00m\n\u001b[1;32m----> 2\u001b[0m \u001b[38;5;28;01mimport\u001b[39;00m \u001b[38;5;21;01minsightface\u001b[39;00m\n\u001b[0;32m      3\u001b[0m \u001b[38;5;28;01mimport\u001b[39;00m \u001b[38;5;21;01mnumpy\u001b[39;00m \u001b[38;5;28;01mas\u001b[39;00m \u001b[38;5;21;01mnp\u001b[39;00m\n\u001b[0;32m      5\u001b[0m \u001b[38;5;66;03m# Initialize InsightFace model\u001b[39;00m\n",
      "\u001b[1;31mModuleNotFoundError\u001b[0m: No module named 'insightface'"
     ]
    }
   ],
   "source": [
    "import cv2\n",
    "import insightface\n",
    "import numpy as np\n",
    "\n",
    "# Initialize InsightFace model\n",
    "model = insightface.app.FaceAnalysis()\n",
    "model.prepare(ctx_id=-1, nms=0.4)\n",
    "\n",
    "# Load a pre-trained face recognition model (optional)\n",
    "# Replace with the path to your InsightFace model checkpoint if you have one\n",
    "# recognizer = YourFaceRecognitionModel()\n",
    "\n",
    "# Initialize the webcam\n",
    "cap = cv2.VideoCapture(0)\n",
    "\n",
    "while True:\n",
    "    # Capture frame-by-frame\n",
    "    ret, frame = cap.read()\n",
    "\n",
    "    # Detect faces using InsightFace's face detection\n",
    "    faces = model.get(frame)\n",
    "\n",
    "    for idx, face in enumerate(faces):\n",
    "        bbox = face.bbox.astype(np.int)\n",
    "        landmarks = face.landmark.astype(np.int)\n",
    "        \n",
    "        # Draw bounding box around the face\n",
    "        cv2.rectangle(frame, (bbox[0], bbox[1]), (bbox[2], bbox[3]), (0, 255, 0), 2)\n",
    "        \n",
    "        # Draw landmarks on the face (optional)\n",
    "        for point in landmarks:\n",
    "            cv2.circle(frame, tuple(point), 2, (0, 0, 255), 2)\n",
    "        \n",
    "        # Perform face recognition (optional)\n",
    "        # Extract face image from frame\n",
    "        face_img = frame[bbox[1]:bbox[3], bbox[0]:bbox[2]]\n",
    "        \n",
    "        # Perform face recognition here using your recognizer model\n",
    "        # recognition_result = recognizer.recognize(face_img)\n",
    "        # You can perform further actions based on recognition results\n",
    "        \n",
    "        # Display person name or ID (example)\n",
    "        # cv2.putText(frame, recognition_result, (bbox[0], bbox[1] - 10), cv2.FONT_HERSHEY_SIMPLEX, 0.9, (0, 255, 0), 2)\n",
    "\n",
    "    # Display the resulting frame\n",
    "    cv2.imshow('Face Recognition', frame)\n",
    "\n",
    "    # Exit loop if 'q' is pressed\n",
    "    if cv2.waitKey(1) & 0xFF == ord('q'):\n",
    "        break\n",
    "\n",
    "# When everything is done, release the capture\n",
    "cap.release()\n",
    "cv2.destroyAllWindows()"
   ]
  },
  {
   "cell_type": "code",
   "execution_count": null,
   "id": "d6ea1616-425b-4509-80bf-37d565a72dca",
   "metadata": {},
   "outputs": [],
   "source": []
  }
 ],
 "metadata": {
  "kernelspec": {
   "display_name": "Python 3 (ipykernel)",
   "language": "python",
   "name": "python3"
  },
  "language_info": {
   "codemirror_mode": {
    "name": "ipython",
    "version": 3
   },
   "file_extension": ".py",
   "mimetype": "text/x-python",
   "name": "python",
   "nbconvert_exporter": "python",
   "pygments_lexer": "ipython3",
   "version": "3.12.3"
  }
 },
 "nbformat": 4,
 "nbformat_minor": 5
}
