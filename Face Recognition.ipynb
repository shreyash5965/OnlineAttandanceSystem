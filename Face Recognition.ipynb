{
 "cells": [
  {
   "cell_type": "code",
   "execution_count": 2,
   "id": "22792771-478f-47fc-8d4d-050cce54b44f",
   "metadata": {},
   "outputs": [],
   "source": [
    "import cv2\n",
    "from keras.models import load_model\n",
    "\n",
    "# Load the cascade classifiers for face detection\n",
    "face_cascade = cv2.CascadeClassifier(cv2.data.haarcascades + 'haarcascade_frontalface_default.xml')\n",
    "\n",
    "# Function to detect faces in an image\n",
    "def detect_faces(img):\n",
    "    gray = cv2.cvtColor(img, cv2.COLOR_BGR2GRAY)\n",
    "    faces = face_cascade.detectMultiScale(gray, scaleFactor=1.1, minNeighbors=5, minSize=(30, 30))\n",
    "    return faces\n",
    "\n",
    "# Function to draw rectangles around detected faces\n",
    "def draw_faces(img, faces):\n",
    "    for (x, y, w, h) in faces:\n",
    "        cv2.rectangle(img, (x, y), (x+w, y+h), (255, 0, 0), 2)\n",
    "\n",
    "# Main function\n",
    "def main():\n",
    "    # Open the camera\n",
    "    cap = cv2.VideoCapture(0)\n",
    "\n",
    "    while True:\n",
    "        # Capture frame-by-frame\n",
    "        ret, frame = cap.read()\n",
    "\n",
    "        # Detect faces\n",
    "        faces = detect_faces(frame)\n",
    "\n",
    "        # Draw rectangles around faces\n",
    "        draw_faces(frame, faces)\n",
    "\n",
    "        # Display the resulting frame\n",
    "        cv2.imshow('Face Detection', frame)\n",
    "\n",
    "        # Break the loop if 'q' is pressed\n",
    "        if cv2.waitKey(1) & 0xFF == ord('q'):\n",
    "            break\n",
    "\n",
    "    # When everything done, release the capture\n",
    "    cap.release()\n",
    "    cv2.destroyAllWindows()\n",
    "\n",
    "if __name__ == \"__main__\":\n",
    "    main()"
   ]
  },
  {
   "cell_type": "code",
   "execution_count": 4,
   "id": "8ca82350-44cc-4b14-a219-b01bf00e3311",
   "metadata": {},
   "outputs": [
    {
     "name": "stdout",
     "output_type": "stream",
     "text": [
      "\u001b[1m1/1\u001b[0m \u001b[32m━━━━━━━━━━━━━━━━━━━━\u001b[0m\u001b[37m\u001b[0m \u001b[1m2s\u001b[0m 2s/step\n"
     ]
    }
   ],
   "source": [
    "import numpy as np\n",
    "from tensorflow.keras.applications import ResNet50\n",
    "from tensorflow.keras.applications.resnet50 import preprocess_input\n",
    "from tensorflow.keras.preprocessing import image\n",
    "from openpyxl import Workbook, load_workbook\n",
    "\n",
    "def image_to_embedding(img_path, model):\n",
    "    # Load and preprocess the image\n",
    "    img = image.load_img(img_path, target_size=(224, 224))\n",
    "    img_array = image.img_to_array(img)\n",
    "    img_array = np.expand_dims(img_array, axis=0)\n",
    "    img_array = preprocess_input(img_array)\n",
    "\n",
    "    # Get the embedding vector\n",
    "    embedding = model.predict(img_array)\n",
    "\n",
    "    return embedding.flatten()\n",
    "\n",
    "def main():\n",
    "    # Load the pre-trained ResNet50 model\n",
    "    model = ResNet50(weights='imagenet', include_top=False, input_shape=(224, 224, 3))\n",
    "\n",
    "    excel_file = 'emotion_data_vector.xlsx'\n",
    "    \n",
    "    try:\n",
    "        wb = load_workbook(excel_file)\n",
    "        sheet = wb.active\n",
    "    except FileNotFoundError:\n",
    "        wb = Workbook()\n",
    "        sheet = wb.active\n",
    "        sheet.append([\"Shape\", \"Vector\"])\n",
    "    \n",
    "    # Path to your image\n",
    "    img_path = 'shreyash.jpg'\n",
    "\n",
    "    # Get the embedding vector for the image\n",
    "    embedding_vector = image_to_embedding(img_path, model)\n",
    "\n",
    "    sheet.append([str(embedding_vector.shape), str(embedding_vector)])\n",
    "    wb.save(excel_file)\n",
    "\n",
    "if __name__ == \"__main__\":\n",
    "    main()"
   ]
  },
  {
   "cell_type": "code",
   "execution_count": null,
   "id": "59e2b8f6-def2-4d1f-8507-cbb726e2d12b",
   "metadata": {},
   "outputs": [],
   "source": []
  }
 ],
 "metadata": {
  "kernelspec": {
   "display_name": "Python 3 (ipykernel)",
   "language": "python",
   "name": "python3"
  },
  "language_info": {
   "codemirror_mode": {
    "name": "ipython",
    "version": 3
   },
   "file_extension": ".py",
   "mimetype": "text/x-python",
   "name": "python",
   "nbconvert_exporter": "python",
   "pygments_lexer": "ipython3",
   "version": "3.12.3"
  }
 },
 "nbformat": 4,
 "nbformat_minor": 5
}
