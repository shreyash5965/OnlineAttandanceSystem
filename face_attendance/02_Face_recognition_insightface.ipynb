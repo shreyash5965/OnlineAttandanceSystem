{
 "cells": [
  {
   "cell_type": "code",
   "execution_count": 174,
   "id": "bcf99642",
   "metadata": {},
   "outputs": [],
   "source": [
    "import os\n",
    "import cv2\n",
    "import numpy as np\n",
    "import pandas as pd\n",
    "import insightface\n",
    "from insightface.app import FaceAnalysis\n",
    "from insightface.data import get_image as ins_get_image\n",
    "import matplotlib.pyplot as plt\n",
    "#similarity and distance calculation\n",
    "from sklearn.metrics import pairwise"
   ]
  },
  {
   "cell_type": "code",
   "execution_count": 175,
   "id": "a5ca62e5",
   "metadata": {},
   "outputs": [],
   "source": [
    "# Define constants\n",
    "training_image_dir ='Images/school_images'\n",
    "test_image_dir = 'Images/test_images'"
   ]
  },
  {
   "cell_type": "code",
   "execution_count": 176,
   "id": "dc2280ef",
   "metadata": {},
   "outputs": [
    {
     "name": "stdout",
     "output_type": "stream",
     "text": [
      "Applied providers: ['CPUExecutionProvider'], with options: {'CPUExecutionProvider': {}}\n",
      "find model: C:\\Users\\umesh/.insightface\\models\\buffalo_sc\\det_500m.onnx detection [1, 3, '?', '?'] 127.5 128.0\n",
      "Applied providers: ['CPUExecutionProvider'], with options: {'CPUExecutionProvider': {}}\n",
      "find model: C:\\Users\\umesh/.insightface\\models\\buffalo_sc\\w600k_mbf.onnx recognition ['None', 3, 112, 112] 127.5 127.5\n",
      "set det-size: (640, 640)\n"
     ]
    }
   ],
   "source": [
    "app_sc = FaceAnalysis(name='buffalo_sc',providers=['CPUExecutionProvider'])\n",
    "app_sc.prepare(ctx_id=0,det_size=(640,640))"
   ]
  },
  {
   "cell_type": "markdown",
   "id": "ce9c737e",
   "metadata": {},
   "source": [
    "# Extract facial features and labels"
   ]
  },
  {
   "cell_type": "code",
   "execution_count": 177,
   "id": "cbed5ee0",
   "metadata": {},
   "outputs": [],
   "source": [
    "img_folders = os.listdir(path=f'./{training_image_dir}/')"
   ]
  },
  {
   "cell_type": "code",
   "execution_count": 178,
   "id": "ee736533",
   "metadata": {},
   "outputs": [],
   "source": [
    "# extract path for each folder and file for training the ml \n",
    "individual_info = [] # format [Name, Role, Facial_embedding]\n",
    "for img_folder in img_folders:\n",
    "    \n",
    "    role, name = img_folder.split('-')\n",
    "    img_files = os.listdir(path=f'./{training_image_dir}/{img_folder}')\n",
    "    for image in img_files:\n",
    "        file_path = f'./{training_image_dir}/{img_folder}/{image}'\n",
    "        # read the image\n",
    "        image = cv2.imread(file_path)\n",
    "        \n",
    "        # get the info\n",
    "        # read only one one image at a time\n",
    "        result = app_sc.get(image,max_num=1)\n",
    "        \n",
    "        # facial data is returned as list, if we dont have any data in list, we have some error\n",
    "        if len(result)>0:\n",
    "            \n",
    "            # extract facial embeddings\n",
    "            individual_info.append([name, role, result[0]['embedding']])"
   ]
  },
  {
   "cell_type": "code",
   "execution_count": 179,
   "id": "6f78994f",
   "metadata": {},
   "outputs": [],
   "source": [
    "# viewing the data in list is difficult\n",
    "# create pandas dataframe for easy representation\n",
    "df = pd.DataFrame(individual_info,columns=['Name', 'Role','Facial Features'])"
   ]
  },
  {
   "cell_type": "code",
   "execution_count": 180,
   "id": "959b70e3",
   "metadata": {},
   "outputs": [
    {
     "data": {
      "text/html": [
       "<div>\n",
       "<style scoped>\n",
       "    .dataframe tbody tr th:only-of-type {\n",
       "        vertical-align: middle;\n",
       "    }\n",
       "\n",
       "    .dataframe tbody tr th {\n",
       "        vertical-align: top;\n",
       "    }\n",
       "\n",
       "    .dataframe thead th {\n",
       "        text-align: right;\n",
       "    }\n",
       "</style>\n",
       "<table border=\"1\" class=\"dataframe\">\n",
       "  <thead>\n",
       "    <tr style=\"text-align: right;\">\n",
       "      <th></th>\n",
       "      <th>Name</th>\n",
       "      <th>Role</th>\n",
       "      <th>Facial Features</th>\n",
       "    </tr>\n",
       "  </thead>\n",
       "  <tbody>\n",
       "    <tr>\n",
       "      <th>0</th>\n",
       "      <td>Angelina Jolie</td>\n",
       "      <td>student</td>\n",
       "      <td>[-0.84095865, 1.6623069, -0.74577826, -2.13812...</td>\n",
       "    </tr>\n",
       "    <tr>\n",
       "      <th>1</th>\n",
       "      <td>Angelina Jolie</td>\n",
       "      <td>student</td>\n",
       "      <td>[0.09012404, -0.4169108, -0.37650695, 0.424011...</td>\n",
       "    </tr>\n",
       "    <tr>\n",
       "      <th>2</th>\n",
       "      <td>Angelina Jolie</td>\n",
       "      <td>student</td>\n",
       "      <td>[0.8638505, 0.32971108, 0.05772102, -1.4537901...</td>\n",
       "    </tr>\n",
       "    <tr>\n",
       "      <th>3</th>\n",
       "      <td>Angelina Jolie</td>\n",
       "      <td>student</td>\n",
       "      <td>[1.6611172, 1.1610862, -0.41079235, -2.6411536...</td>\n",
       "    </tr>\n",
       "    <tr>\n",
       "      <th>4</th>\n",
       "      <td>Angelina Jolie</td>\n",
       "      <td>student</td>\n",
       "      <td>[0.864314, 0.9437618, 0.4265172, -1.1836909, -...</td>\n",
       "    </tr>\n",
       "  </tbody>\n",
       "</table>\n",
       "</div>"
      ],
      "text/plain": [
       "             Name     Role                                    Facial Features\n",
       "0  Angelina Jolie  student  [-0.84095865, 1.6623069, -0.74577826, -2.13812...\n",
       "1  Angelina Jolie  student  [0.09012404, -0.4169108, -0.37650695, 0.424011...\n",
       "2  Angelina Jolie  student  [0.8638505, 0.32971108, 0.05772102, -1.4537901...\n",
       "3  Angelina Jolie  student  [1.6611172, 1.1610862, -0.41079235, -2.6411536...\n",
       "4  Angelina Jolie  student  [0.864314, 0.9437618, 0.4265172, -1.1836909, -..."
      ]
     },
     "execution_count": 180,
     "metadata": {},
     "output_type": "execute_result"
    }
   ],
   "source": [
    "df.head(5)"
   ]
  },
  {
   "cell_type": "code",
   "execution_count": 181,
   "id": "f70b104f",
   "metadata": {},
   "outputs": [
    {
     "data": {
      "text/html": [
       "<div>\n",
       "<style scoped>\n",
       "    .dataframe tbody tr th:only-of-type {\n",
       "        vertical-align: middle;\n",
       "    }\n",
       "\n",
       "    .dataframe tbody tr th {\n",
       "        vertical-align: top;\n",
       "    }\n",
       "\n",
       "    .dataframe thead th {\n",
       "        text-align: right;\n",
       "    }\n",
       "</style>\n",
       "<table border=\"1\" class=\"dataframe\">\n",
       "  <thead>\n",
       "    <tr style=\"text-align: right;\">\n",
       "      <th></th>\n",
       "      <th>Name</th>\n",
       "      <th>Role</th>\n",
       "      <th>Facial Features</th>\n",
       "    </tr>\n",
       "  </thead>\n",
       "  <tbody>\n",
       "    <tr>\n",
       "      <th>45</th>\n",
       "      <td>Morgan_Freeman</td>\n",
       "      <td>teacher</td>\n",
       "      <td>[-0.27514642, -0.275059, -0.8417722, 1.2798201...</td>\n",
       "    </tr>\n",
       "    <tr>\n",
       "      <th>46</th>\n",
       "      <td>Morgan_Freeman</td>\n",
       "      <td>teacher</td>\n",
       "      <td>[0.7716732, -0.6371075, 0.1712926, 0.55135304,...</td>\n",
       "    </tr>\n",
       "    <tr>\n",
       "      <th>47</th>\n",
       "      <td>Morgan_Freeman</td>\n",
       "      <td>teacher</td>\n",
       "      <td>[1.2277565, -1.5641882, 0.4299565, 0.97194993,...</td>\n",
       "    </tr>\n",
       "    <tr>\n",
       "      <th>48</th>\n",
       "      <td>Morgan_Freeman</td>\n",
       "      <td>teacher</td>\n",
       "      <td>[-0.26069024, 0.020205945, -0.41906506, 1.6750...</td>\n",
       "    </tr>\n",
       "    <tr>\n",
       "      <th>49</th>\n",
       "      <td>Morgan_Freeman</td>\n",
       "      <td>teacher</td>\n",
       "      <td>[0.42457733, -1.3476063, -0.6581383, 1.7241502...</td>\n",
       "    </tr>\n",
       "  </tbody>\n",
       "</table>\n",
       "</div>"
      ],
      "text/plain": [
       "              Name     Role                                    Facial Features\n",
       "45  Morgan_Freeman  teacher  [-0.27514642, -0.275059, -0.8417722, 1.2798201...\n",
       "46  Morgan_Freeman  teacher  [0.7716732, -0.6371075, 0.1712926, 0.55135304,...\n",
       "47  Morgan_Freeman  teacher  [1.2277565, -1.5641882, 0.4299565, 0.97194993,...\n",
       "48  Morgan_Freeman  teacher  [-0.26069024, 0.020205945, -0.41906506, 1.6750...\n",
       "49  Morgan_Freeman  teacher  [0.42457733, -1.3476063, -0.6581383, 1.7241502..."
      ]
     },
     "execution_count": 181,
     "metadata": {},
     "output_type": "execute_result"
    }
   ],
   "source": [
    "df.tail(5)"
   ]
  },
  {
   "cell_type": "code",
   "execution_count": 182,
   "id": "778ec620",
   "metadata": {},
   "outputs": [],
   "source": [
    "facial_features = df['Facial Features'].tolist()\n",
    "X = np.asarray(facial_features)"
   ]
  },
  {
   "cell_type": "code",
   "execution_count": 183,
   "id": "877c83da",
   "metadata": {},
   "outputs": [
    {
     "data": {
      "text/plain": [
       "(50, 512)"
      ]
     },
     "execution_count": 183,
     "metadata": {},
     "output_type": "execute_result"
    }
   ],
   "source": [
    "# we have 50 rows and 512 columns which represents 50 images and each images with 512 facial features for\n",
    "# face recognition\n",
    "X.shape"
   ]
  },
  {
   "cell_type": "markdown",
   "id": "3f0183b1",
   "metadata": {},
   "source": [
    "# Testing image\n",
    "Import new image other than above data to calculate the distance and check the model working"
   ]
  },
  {
   "cell_type": "code",
   "execution_count": 184,
   "id": "7abacf9a",
   "metadata": {},
   "outputs": [],
   "source": [
    "test_std_img = cv2.imread(f'./{test_image_dir}/test_6.jpeg')\n",
    "# cv2.imshow('Initial Image',test_std_img)\n",
    "# cv2.waitKey(0)\n",
    "# cv2.destroyAllWindows()"
   ]
  },
  {
   "cell_type": "code",
   "execution_count": 185,
   "id": "a9cefc3c",
   "metadata": {},
   "outputs": [],
   "source": [
    "# extract features\n",
    "result_sc = app_sc.get(test_std_img)\n",
    "test_embedding = result_sc[0]['embedding']"
   ]
  },
  {
   "cell_type": "code",
   "execution_count": 186,
   "id": "0286e102",
   "metadata": {},
   "outputs": [],
   "source": [
    "# change y to the shape same as X for comparision\n",
    "y = test_embedding.reshape(1,512)"
   ]
  },
  {
   "cell_type": "code",
   "execution_count": 187,
   "id": "e70e4836",
   "metadata": {},
   "outputs": [],
   "source": [
    "euclidean_distance = pairwise.euclidean_distances(X,y)\n",
    "manhatten_distance = pairwise.manhattan_distances(X,y)\n",
    "cosine_similarity = pairwise.cosine_similarity(X,y)\n"
   ]
  },
  {
   "cell_type": "code",
   "execution_count": 188,
   "id": "205be9fb",
   "metadata": {},
   "outputs": [],
   "source": [
    "# add distance and similarity to copy of df\n",
    "df_extended = df.copy()"
   ]
  },
  {
   "cell_type": "code",
   "execution_count": 189,
   "id": "15d7c05e",
   "metadata": {},
   "outputs": [],
   "source": [
    "df_extended['equlidean'] = euclidean_distance\n",
    "df_extended['manhattan'] = manhatten_distance\n",
    "df_extended['cosine'] = cosine_similarity"
   ]
  },
  {
   "cell_type": "code",
   "execution_count": 190,
   "id": "f85786fa",
   "metadata": {},
   "outputs": [
    {
     "data": {
      "text/html": [
       "<div>\n",
       "<style scoped>\n",
       "    .dataframe tbody tr th:only-of-type {\n",
       "        vertical-align: middle;\n",
       "    }\n",
       "\n",
       "    .dataframe tbody tr th {\n",
       "        vertical-align: top;\n",
       "    }\n",
       "\n",
       "    .dataframe thead th {\n",
       "        text-align: right;\n",
       "    }\n",
       "</style>\n",
       "<table border=\"1\" class=\"dataframe\">\n",
       "  <thead>\n",
       "    <tr style=\"text-align: right;\">\n",
       "      <th></th>\n",
       "      <th>Name</th>\n",
       "      <th>Role</th>\n",
       "      <th>Facial Features</th>\n",
       "    </tr>\n",
       "  </thead>\n",
       "  <tbody>\n",
       "    <tr>\n",
       "      <th>0</th>\n",
       "      <td>Angelina Jolie</td>\n",
       "      <td>student</td>\n",
       "      <td>[-0.84095865, 1.6623069, -0.74577826, -2.13812...</td>\n",
       "    </tr>\n",
       "    <tr>\n",
       "      <th>1</th>\n",
       "      <td>Angelina Jolie</td>\n",
       "      <td>student</td>\n",
       "      <td>[0.09012404, -0.4169108, -0.37650695, 0.424011...</td>\n",
       "    </tr>\n",
       "    <tr>\n",
       "      <th>2</th>\n",
       "      <td>Angelina Jolie</td>\n",
       "      <td>student</td>\n",
       "      <td>[0.8638505, 0.32971108, 0.05772102, -1.4537901...</td>\n",
       "    </tr>\n",
       "    <tr>\n",
       "      <th>3</th>\n",
       "      <td>Angelina Jolie</td>\n",
       "      <td>student</td>\n",
       "      <td>[1.6611172, 1.1610862, -0.41079235, -2.6411536...</td>\n",
       "    </tr>\n",
       "    <tr>\n",
       "      <th>4</th>\n",
       "      <td>Angelina Jolie</td>\n",
       "      <td>student</td>\n",
       "      <td>[0.864314, 0.9437618, 0.4265172, -1.1836909, -...</td>\n",
       "    </tr>\n",
       "  </tbody>\n",
       "</table>\n",
       "</div>"
      ],
      "text/plain": [
       "             Name     Role                                    Facial Features\n",
       "0  Angelina Jolie  student  [-0.84095865, 1.6623069, -0.74577826, -2.13812...\n",
       "1  Angelina Jolie  student  [0.09012404, -0.4169108, -0.37650695, 0.424011...\n",
       "2  Angelina Jolie  student  [0.8638505, 0.32971108, 0.05772102, -1.4537901...\n",
       "3  Angelina Jolie  student  [1.6611172, 1.1610862, -0.41079235, -2.6411536...\n",
       "4  Angelina Jolie  student  [0.864314, 0.9437618, 0.4265172, -1.1836909, -..."
      ]
     },
     "execution_count": 190,
     "metadata": {},
     "output_type": "execute_result"
    }
   ],
   "source": [
    "df.head()"
   ]
  },
  {
   "cell_type": "markdown",
   "id": "28e0bea0",
   "metadata": {},
   "source": [
    "# Distance Plotting"
   ]
  },
  {
   "cell_type": "code",
   "execution_count": 191,
   "id": "5090a992",
   "metadata": {},
   "outputs": [],
   "source": [
    "# Euclidean Distance plotting"
   ]
  },
  {
   "cell_type": "code",
   "execution_count": 192,
   "id": "d4892cff",
   "metadata": {},
   "outputs": [
    {
     "data": {
      "image/png": "[encoded data removed]",
      "text/plain": [
       "<Figure size 1100x400 with 1 Axes>"
      ]
     },
     "metadata": {},
     "output_type": "display_data"
    }
   ],
   "source": [
    "plt.figure(figsize=(11,4))\n",
    "plt.plot(df_extended['equlidean'])\n",
    "plt.xlabel('Person')\n",
    "plt.ylabel('Equlidean')\n",
    "plt.xticks(ticks=list(range(len(df_extended['equlidean']))),labels=df_extended['Name'], rotation=90)\n",
    "plt.grid()\n",
    "plt.title('Euclidean Distance')\n",
    "plt.show()"
   ]
  },
  {
   "cell_type": "code",
   "execution_count": 193,
   "id": "c58d239a",
   "metadata": {},
   "outputs": [],
   "source": [
    "# Manhattan Distance plotting"
   ]
  },
  {
   "cell_type": "code",
   "execution_count": 194,
   "id": "93c25f2f",
   "metadata": {},
   "outputs": [
    {
     "data": {
      "image/png": "[encoded data removed]",
      "text/plain": [
       "<Figure size 1100x400 with 1 Axes>"
      ]
     },
     "metadata": {},
     "output_type": "display_data"
    }
   ],
   "source": [
    "plt.figure(figsize=(11,4))\n",
    "plt.plot(df_extended['manhattan'])\n",
    "plt.xlabel('Person')\n",
    "plt.ylabel('Manhattan')\n",
    "plt.xticks(ticks=list(range(len(df_extended['manhattan']))),labels=df_extended['Name'], rotation=90)\n",
    "plt.grid()\n",
    "plt.title('Manhattan Distance')\n",
    "plt.show()"
   ]
  },
  {
   "cell_type": "code",
   "execution_count": 195,
   "id": "32726e61",
   "metadata": {},
   "outputs": [],
   "source": [
    "# Cosine Similarity plotting"
   ]
  },
  {
   "cell_type": "code",
   "execution_count": 196,
   "id": "157dba02",
   "metadata": {},
   "outputs": [
    {
     "data": {
      "image/png": "[encoded data removed]",
      "text/plain": [
       "<Figure size 1100x400 with 1 Axes>"
      ]
     },
     "metadata": {},
     "output_type": "display_data"
    }
   ],
   "source": [
    "plt.figure(figsize=(11,4))\n",
    "plt.plot(df_extended['cosine'])\n",
    "plt.xlabel('Person')\n",
    "plt.ylabel('Cosine Similarity')\n",
    "plt.xticks(ticks=list(range(len(df_extended['cosine']))),labels=df_extended['Name'], rotation=90)\n",
    "plt.grid()\n",
    "plt.title('Cosine Similarity')\n",
    "plt.show()"
   ]
  },
  {
   "cell_type": "markdown",
   "id": "8372fe2c",
   "metadata": {},
   "source": [
    "# Identify Person using Equlidean Distance"
   ]
  },
  {
   "cell_type": "code",
   "execution_count": 197,
   "id": "ed85c0cd",
   "metadata": {},
   "outputs": [],
   "source": [
    "optimal_eqdistance = 25"
   ]
  },
  {
   "cell_type": "code",
   "execution_count": 198,
   "id": "d291dcfc",
   "metadata": {},
   "outputs": [
    {
     "name": "stdout",
     "output_type": "stream",
     "text": [
      "Name Barack_Obama and Role:teacher\n"
     ]
    }
   ],
   "source": [
    "# print data whose equlidean distance is less than optimal distance gives the person name\n",
    "df_extended = df_extended[df_extended['equlidean'] < optimal_eqdistance]\n",
    "df_extended.reset_index(drop=True, inplace=True)\n",
    "name,role\n",
    "if len(df_extended):\n",
    "    # get data with minimum equlidean distance\n",
    "    argmin = df_extended['equlidean'].argmin()\n",
    "    person_data = df_extended.loc[argmin]\n",
    "    name,role = person_data[['Name','Role']]\n",
    "#     print(argmin)\n",
    "else:\n",
    "    name, role = 'unknown'\n",
    "\n",
    "print(f\"Name {name} and Role:{role}\")"
   ]
  },
  {
   "cell_type": "markdown",
   "id": "6dfdb85e",
   "metadata": {},
   "source": [
    "# Identify Person using Cosine Similarity"
   ]
  },
  {
   "cell_type": "code",
   "execution_count": 199,
   "id": "e69d3b1d",
   "metadata": {},
   "outputs": [],
   "source": [
    "optimal_cosine = 0.5"
   ]
  },
  {
   "cell_type": "code",
   "execution_count": 200,
   "id": "43e55042",
   "metadata": {},
   "outputs": [
    {
     "name": "stdout",
     "output_type": "stream",
     "text": [
      "Name Barack_Obama and Role:teacher with Cosien Similarity 0.8733829259872437\n"
     ]
    }
   ],
   "source": [
    "# print data whose cosine similarity is more than optimal_cosine gives the person name\n",
    "df_extended = df_extended[df_extended['cosine'] > optimal_cosine]\n",
    "df_extended.reset_index(drop=True, inplace=True)\n",
    "name,role= '',''\n",
    "cosine = 0.0\n",
    "if len(df_extended):\n",
    "    # get data with minimum equlidean distance\n",
    "    argmax = df_extended['cosine'].argmax()\n",
    "    person_data = df_extended.loc[argmax]\n",
    "    name,role,cosine = person_data[['Name','Role','cosine']]\n",
    "#     print(argmin)\n",
    "else:\n",
    "    name, role = 'unknown'\n",
    "\n",
    "print(f\"Name {name} and Role:{role} with Cosien Similarity {cosine}\")"
   ]
  },
  {
   "cell_type": "markdown",
   "id": "64f06b8a",
   "metadata": {},
   "source": [
    "# Face Searching Algorithm"
   ]
  },
  {
   "cell_type": "code",
   "execution_count": 201,
   "id": "589e0eb5",
   "metadata": {},
   "outputs": [],
   "source": [
    "def mL_search_algorithm(df,feature_column,test_data,threshold=0.5):\n",
    "    \"\"\"\n",
    "    Perform a machine learning search.\n",
    "\n",
    "    Parameters:\n",
    "    -----------\n",
    "    df : pandas DataFrame\n",
    "    Original dataset of metadata of training images.\n",
    "\n",
    "    feature_column : str\n",
    "    Name of the column containing features usually 'Facial_Features'\n",
    "\n",
    "    test_data : array-like\n",
    "    metadata of test_iamge for similarity calculation.\n",
    "\n",
    "    threshold : float, optional (default=0.5)\n",
    "    Threshold for similarity above which a match is considered.\n",
    "\n",
    "    Returns:\n",
    "    --------\n",
    "    tuple (str, str)\n",
    "    Name and role of the person with highest similarity.\n",
    "    ('Unknown', 'Unknown') if no match is found above threshold.\n",
    "    \"\"\"\n",
    "\n",
    "    # 1. copy the dataframe and prepare for next step\n",
    "    df_temp = df.copy()\n",
    "\n",
    "    # 2. get face embeding from dataframe and prepare X(pretrained data) and y(test_data)\n",
    "    X_list = df[feature_column].tolist()\n",
    "    X = np.asarray(X_list)\n",
    "\n",
    "    # reshape data to 1 row and as many columns as necessary\n",
    "    y = test_data.reshape(1,-1)\n",
    "\n",
    "    # 3. Calculate cosine similarity\n",
    "    similarity = pairwise.cosine_similarity(X,y)\n",
    "    similarity_array = np.array(similarity).flatten()\n",
    "    df['cosine'] = similarity_array\n",
    "\n",
    "    # 4. Filter the data with highest Cosine similarity\n",
    "    person_name, role = '',''\n",
    "    filter_query = df['cosine'] > threshold\n",
    "    filtered_data = df[filter_query]\n",
    "    if len(filtered_data) > 0:\n",
    "        filtered_data.reset_index(drop = True, inplace= True)\n",
    "        # argmax returns index of maxium_value\n",
    "        cosine_argmax = filtered_data['cosine'].argmax()\n",
    "        person_name, role = filtered_data.loc[cosine_argmax][['Name','Role']]\n",
    "    else:\n",
    "        person_name,role='Unknown','Unknown'\n",
    "\n",
    "    return person_name, role\n",
    "\n",
    "    \n",
    "    "
   ]
  },
  {
   "cell_type": "markdown",
   "id": "3e1d2a35",
   "metadata": {},
   "source": [
    "# Identify multiple person in image"
   ]
  },
  {
   "cell_type": "code",
   "execution_count": 202,
   "id": "47891056",
   "metadata": {},
   "outputs": [],
   "source": [
    "test_image = cv2.imread(f'{test_image_dir}/test_11.jpg')\n",
    "cv2.imshow('Multiple Image test', test_image)\n",
    "cv2.waitKey()\n",
    "cv2.destroyAllWindows()\n"
   ]
  },
  {
   "cell_type": "code",
   "execution_count": 203,
   "id": "45a7cc7a",
   "metadata": {},
   "outputs": [
    {
     "name": "stdout",
     "output_type": "stream",
     "text": [
      "('Unknown', 'Unknown')\n",
      "('Unknown', 'Unknown')\n",
      "('Barack_Obama', 'teacher')\n",
      "('Unknown', 'Unknown')\n",
      "('Unknown', 'Unknown')\n",
      "('Unknown', 'Unknown')\n",
      "('Unknown', 'Unknown')\n",
      "('Unknown', 'Unknown')\n",
      "('Unknown', 'Unknown')\n",
      "('Unknown', 'Unknown')\n",
      "('Unknown', 'Unknown')\n",
      "('Unknown', 'Unknown')\n"
     ]
    }
   ],
   "source": [
    "# test_image_data contains data of each person appearing in the image in list\n",
    "# information of each person is in a index of list\n",
    "image_information = app_sc.get(test_image)\n",
    "image_copy = test_image.copy()\n",
    "# we can use loop to get data of every person and to manipulate the input image \n",
    "# eg draw rectangle around recognized  person's face \n",
    "type(image_information)\n",
    "df.head()\n",
    "for info in image_information:\n",
    "    bbox = info['bbox'].astype(int)\n",
    "    embeddings = info['embedding']\n",
    "    print(mL_search_algorithm(df,'Facial Features',embeddings))\n",
    "    person_name , role = mL_search_algorithm(df,'Facial Features',embeddings)\n",
    "    x1,y1,x2,y2 = info['bbox'].astype(int)\n",
    "    # set text_color green if the person name is present else red \n",
    "    text_color = (0,255,0) if person_name != 'Unknown' else (0,0,255)\n",
    "    cv2.rectangle(image_copy,(x1,y1),(x2,y2),text_color,2)\n",
    "    cv2.putText(image_copy,person_name,(x1,y1-10),cv2.FONT_HERSHEY_DUPLEX,0.5,text_color)\n",
    "\n",
    "cv2.imshow('Test image',image_copy)\n",
    "cv2.waitKey()\n",
    "cv2.destroyAllWindows()"
   ]
  },
  {
   "cell_type": "markdown",
   "id": "856ca5a3",
   "metadata": {},
   "source": [
    "# Compress dataframe\n",
    "Take mean of each Student/ Teacher facial expression and store only one data at database to reduce computing time and storage space without effect in performance"
   ]
  },
  {
   "cell_type": "code",
   "execution_count": 204,
   "id": "3551a8c8",
   "metadata": {},
   "outputs": [
    {
     "data": {
      "text/html": [
       "<div>\n",
       "<style scoped>\n",
       "    .dataframe tbody tr th:only-of-type {\n",
       "        vertical-align: middle;\n",
       "    }\n",
       "\n",
       "    .dataframe tbody tr th {\n",
       "        vertical-align: top;\n",
       "    }\n",
       "\n",
       "    .dataframe thead th {\n",
       "        text-align: right;\n",
       "    }\n",
       "</style>\n",
       "<table border=\"1\" class=\"dataframe\">\n",
       "  <thead>\n",
       "    <tr style=\"text-align: right;\">\n",
       "      <th></th>\n",
       "      <th>Name</th>\n",
       "      <th>Role</th>\n",
       "      <th>Facial Features</th>\n",
       "      <th>cosine</th>\n",
       "    </tr>\n",
       "  </thead>\n",
       "  <tbody>\n",
       "    <tr>\n",
       "      <th>0</th>\n",
       "      <td>Angelina Jolie</td>\n",
       "      <td>student</td>\n",
       "      <td>[0.43239492, 1.0748208, -0.12874822, -1.833274...</td>\n",
       "      <td>-0.055578</td>\n",
       "    </tr>\n",
       "    <tr>\n",
       "      <th>1</th>\n",
       "      <td>Barack_Obama</td>\n",
       "      <td>teacher</td>\n",
       "      <td>[0.94851226, -0.5582868, 0.09495868, -1.279620...</td>\n",
       "      <td>-0.109103</td>\n",
       "    </tr>\n",
       "    <tr>\n",
       "      <th>2</th>\n",
       "      <td>Chris_Evans</td>\n",
       "      <td>student</td>\n",
       "      <td>[0.7200426, -1.4685223, -0.7779212, -1.460148,...</td>\n",
       "      <td>0.028200</td>\n",
       "    </tr>\n",
       "    <tr>\n",
       "      <th>3</th>\n",
       "      <td>Morgan_Freeman</td>\n",
       "      <td>teacher</td>\n",
       "      <td>[0.48528442, -0.619405, -0.4070305, 1.0686811,...</td>\n",
       "      <td>0.071180</td>\n",
       "    </tr>\n",
       "    <tr>\n",
       "      <th>4</th>\n",
       "      <td>Scarlett Johansson</td>\n",
       "      <td>student</td>\n",
       "      <td>[0.19131908, -0.48838148, -1.690325, 0.4423288...</td>\n",
       "      <td>0.013093</td>\n",
       "    </tr>\n",
       "  </tbody>\n",
       "</table>\n",
       "</div>"
      ],
      "text/plain": [
       "                 Name     Role  \\\n",
       "0      Angelina Jolie  student   \n",
       "1        Barack_Obama  teacher   \n",
       "2         Chris_Evans  student   \n",
       "3      Morgan_Freeman  teacher   \n",
       "4  Scarlett Johansson  student   \n",
       "\n",
       "                                     Facial Features    cosine  \n",
       "0  [0.43239492, 1.0748208, -0.12874822, -1.833274... -0.055578  \n",
       "1  [0.94851226, -0.5582868, 0.09495868, -1.279620... -0.109103  \n",
       "2  [0.7200426, -1.4685223, -0.7779212, -1.460148,...  0.028200  \n",
       "3  [0.48528442, -0.619405, -0.4070305, 1.0686811,...  0.071180  \n",
       "4  [0.19131908, -0.48838148, -1.690325, 0.4423288...  0.013093  "
      ]
     },
     "execution_count": 204,
     "metadata": {},
     "output_type": "execute_result"
    }
   ],
   "source": [
    "df_compressed = df.groupby(['Name','Role']).mean()\n",
    "df_compressed.reset_index(inplace=True)\n",
    "df_compressed"
   ]
  },
  {
   "cell_type": "markdown",
   "id": "45c3c7a2",
   "metadata": {},
   "source": [
    "# Exporting data to Zip and restoring"
   ]
  },
  {
   "cell_type": "code",
   "execution_count": 205,
   "id": "3ae9e9e4",
   "metadata": {},
   "outputs": [],
   "source": [
    "# Export dataframe as numpy zip"
   ]
  },
  {
   "cell_type": "code",
   "execution_count": 206,
   "id": "3174efc9",
   "metadata": {},
   "outputs": [],
   "source": [
    "column_names = df_compressed.columns\n",
    "values = df_compressed.values"
   ]
  },
  {
   "cell_type": "code",
   "execution_count": 207,
   "id": "9a90b92f",
   "metadata": {},
   "outputs": [],
   "source": [
    "# save data as numpy zip to preserve the facial feature shape and each point's location in n x 512 data points\n",
    "# save values and column names in saparate array for easier storage and retrieval\n",
    "np.savez('face_dataframe_compressed.npz',values,column_names)"
   ]
  },
  {
   "cell_type": "code",
   "execution_count": 208,
   "id": "3022092c",
   "metadata": {},
   "outputs": [
    {
     "data": {
      "text/plain": [
       "['arr_0', 'arr_1']"
      ]
     },
     "execution_count": 208,
     "metadata": {},
     "output_type": "execute_result"
    }
   ],
   "source": [
    "# Import numpy zip to dataframe\n",
    "data_restore = np.load('face_dataframe_compressed.npz',allow_pickle=True)\n",
    "# gives the stored arrays back\n",
    "data_restore.files"
   ]
  },
  {
   "cell_type": "code",
   "execution_count": 209,
   "id": "0870a905",
   "metadata": {},
   "outputs": [
    {
     "data": {
      "text/html": [
       "<div>\n",
       "<style scoped>\n",
       "    .dataframe tbody tr th:only-of-type {\n",
       "        vertical-align: middle;\n",
       "    }\n",
       "\n",
       "    .dataframe tbody tr th {\n",
       "        vertical-align: top;\n",
       "    }\n",
       "\n",
       "    .dataframe thead th {\n",
       "        text-align: right;\n",
       "    }\n",
       "</style>\n",
       "<table border=\"1\" class=\"dataframe\">\n",
       "  <thead>\n",
       "    <tr style=\"text-align: right;\">\n",
       "      <th></th>\n",
       "      <th>Name</th>\n",
       "      <th>Role</th>\n",
       "      <th>Facial Features</th>\n",
       "      <th>cosine</th>\n",
       "    </tr>\n",
       "  </thead>\n",
       "  <tbody>\n",
       "    <tr>\n",
       "      <th>0</th>\n",
       "      <td>Angelina Jolie</td>\n",
       "      <td>student</td>\n",
       "      <td>[0.43239492, 1.0748208, -0.12874822, -1.833274...</td>\n",
       "      <td>-0.055578</td>\n",
       "    </tr>\n",
       "    <tr>\n",
       "      <th>1</th>\n",
       "      <td>Barack_Obama</td>\n",
       "      <td>teacher</td>\n",
       "      <td>[0.94851226, -0.5582868, 0.09495868, -1.279620...</td>\n",
       "      <td>-0.109103</td>\n",
       "    </tr>\n",
       "    <tr>\n",
       "      <th>2</th>\n",
       "      <td>Chris_Evans</td>\n",
       "      <td>student</td>\n",
       "      <td>[0.7200426, -1.4685223, -0.7779212, -1.460148,...</td>\n",
       "      <td>0.0282</td>\n",
       "    </tr>\n",
       "    <tr>\n",
       "      <th>3</th>\n",
       "      <td>Morgan_Freeman</td>\n",
       "      <td>teacher</td>\n",
       "      <td>[0.48528442, -0.619405, -0.4070305, 1.0686811,...</td>\n",
       "      <td>0.07118</td>\n",
       "    </tr>\n",
       "    <tr>\n",
       "      <th>4</th>\n",
       "      <td>Scarlett Johansson</td>\n",
       "      <td>student</td>\n",
       "      <td>[0.19131908, -0.48838148, -1.690325, 0.4423288...</td>\n",
       "      <td>0.013093</td>\n",
       "    </tr>\n",
       "  </tbody>\n",
       "</table>\n",
       "</div>"
      ],
      "text/plain": [
       "                 Name     Role  \\\n",
       "0      Angelina Jolie  student   \n",
       "1        Barack_Obama  teacher   \n",
       "2         Chris_Evans  student   \n",
       "3      Morgan_Freeman  teacher   \n",
       "4  Scarlett Johansson  student   \n",
       "\n",
       "                                     Facial Features    cosine  \n",
       "0  [0.43239492, 1.0748208, -0.12874822, -1.833274... -0.055578  \n",
       "1  [0.94851226, -0.5582868, 0.09495868, -1.279620... -0.109103  \n",
       "2  [0.7200426, -1.4685223, -0.7779212, -1.460148,...    0.0282  \n",
       "3  [0.48528442, -0.619405, -0.4070305, 1.0686811,...   0.07118  \n",
       "4  [0.19131908, -0.48838148, -1.690325, 0.4423288...  0.013093  "
      ]
     },
     "execution_count": 209,
     "metadata": {},
     "output_type": "execute_result"
    }
   ],
   "source": [
    "df_restore = pd.DataFrame(data_restore['arr_0'], columns=data_restore['arr_1'])\n",
    "df_restore.head()"
   ]
  }
 ],
 "metadata": {
  "kernelspec": {
   "display_name": "Python 3 (ipykernel)",
   "language": "python",
   "name": "python3"
  },
  "language_info": {
   "codemirror_mode": {
    "name": "ipython",
    "version": 3
   },
   "file_extension": ".py",
   "mimetype": "text/x-python",
   "name": "python",
   "nbconvert_exporter": "python",
   "pygments_lexer": "ipython3",
   "version": "3.12.3"
  }
 },
 "nbformat": 4,
 "nbformat_minor": 5
}
