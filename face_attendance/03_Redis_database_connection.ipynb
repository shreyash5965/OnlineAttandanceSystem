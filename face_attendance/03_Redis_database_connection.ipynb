{
 "cells": [
  {
   "cell_type": "code",
   "execution_count": 2,
   "id": "31b713bf",
   "metadata": {
    "is_executing": true
   },
   "outputs": [],
   "source": [
    "import redis\n",
    "import numpy as np\n",
    "import pandas as pd"
   ]
  },
  {
   "cell_type": "code",
   "execution_count": 25,
   "id": "a7c1d38b",
   "metadata": {},
   "outputs": [],
   "source": [
    "hostname = 'redis-18992.c258.us-east-1-4.ec2.redns.redis-cloud.com'\n",
    "port = '18992'\n",
    "password = 'nUoPu0pKGDk95n5zatr1N1DgTDNmnAuG'"
   ]
  },
  {
   "cell_type": "code",
   "execution_count": 26,
   "id": "dbc053df",
   "metadata": {},
   "outputs": [],
   "source": [
    "r = redis.StrictRedis(host=hostname,\n",
    "               port= port, password=password)"
   ]
  },
  {
   "cell_type": "code",
   "execution_count": 27,
   "id": "9d4c6b10",
   "metadata": {},
   "outputs": [
    {
     "data": {
      "text/plain": [
       "True"
      ]
     },
     "execution_count": 27,
     "metadata": {},
     "output_type": "execute_result"
    }
   ],
   "source": [
    "r.ping()"
   ]
  },
  {
   "cell_type": "code",
   "execution_count": 16,
   "id": "ddb7f183",
   "metadata": {},
   "outputs": [],
   "source": [
    "# load the data numpy.zip"
   ]
  },
  {
   "cell_type": "code",
   "execution_count": 28,
   "id": "c2663221",
   "metadata": {},
   "outputs": [
    {
     "data": {
      "text/html": [
       "<div>\n",
       "<style scoped>\n",
       "    .dataframe tbody tr th:only-of-type {\n",
       "        vertical-align: middle;\n",
       "    }\n",
       "\n",
       "    .dataframe tbody tr th {\n",
       "        vertical-align: top;\n",
       "    }\n",
       "\n",
       "    .dataframe thead th {\n",
       "        text-align: right;\n",
       "    }\n",
       "</style>\n",
       "<table border=\"1\" class=\"dataframe\">\n",
       "  <thead>\n",
       "    <tr style=\"text-align: right;\">\n",
       "      <th></th>\n",
       "      <th>Name</th>\n",
       "      <th>Role</th>\n",
       "      <th>Facial Features</th>\n",
       "      <th>cosine</th>\n",
       "    </tr>\n",
       "  </thead>\n",
       "  <tbody>\n",
       "    <tr>\n",
       "      <th>0</th>\n",
       "      <td>Angelina Jolie</td>\n",
       "      <td>student</td>\n",
       "      <td>[0.43239492, 1.0748208, -0.12874822, -1.833274...</td>\n",
       "      <td>-0.055578</td>\n",
       "    </tr>\n",
       "    <tr>\n",
       "      <th>1</th>\n",
       "      <td>Barack_Obama</td>\n",
       "      <td>teacher</td>\n",
       "      <td>[0.94851226, -0.5582868, 0.09495868, -1.279620...</td>\n",
       "      <td>-0.109103</td>\n",
       "    </tr>\n",
       "    <tr>\n",
       "      <th>2</th>\n",
       "      <td>Chris_Evans</td>\n",
       "      <td>student</td>\n",
       "      <td>[0.7200426, -1.4685223, -0.7779212, -1.460148,...</td>\n",
       "      <td>0.0282</td>\n",
       "    </tr>\n",
       "    <tr>\n",
       "      <th>3</th>\n",
       "      <td>Morgan_Freeman</td>\n",
       "      <td>teacher</td>\n",
       "      <td>[0.48528442, -0.619405, -0.4070305, 1.0686811,...</td>\n",
       "      <td>0.07118</td>\n",
       "    </tr>\n",
       "    <tr>\n",
       "      <th>4</th>\n",
       "      <td>Scarlett Johansson</td>\n",
       "      <td>student</td>\n",
       "      <td>[0.19131908, -0.48838148, -1.690325, 0.4423288...</td>\n",
       "      <td>0.013093</td>\n",
       "    </tr>\n",
       "  </tbody>\n",
       "</table>\n",
       "</div>"
      ],
      "text/plain": [
       "                 Name     Role  \\\n",
       "0      Angelina Jolie  student   \n",
       "1        Barack_Obama  teacher   \n",
       "2         Chris_Evans  student   \n",
       "3      Morgan_Freeman  teacher   \n",
       "4  Scarlett Johansson  student   \n",
       "\n",
       "                                     Facial Features    cosine  \n",
       "0  [0.43239492, 1.0748208, -0.12874822, -1.833274... -0.055578  \n",
       "1  [0.94851226, -0.5582868, 0.09495868, -1.279620... -0.109103  \n",
       "2  [0.7200426, -1.4685223, -0.7779212, -1.460148,...    0.0282  \n",
       "3  [0.48528442, -0.619405, -0.4070305, 1.0686811,...   0.07118  \n",
       "4  [0.19131908, -0.48838148, -1.690325, 0.4423288...  0.013093  "
      ]
     },
     "execution_count": 28,
     "metadata": {},
     "output_type": "execute_result"
    }
   ],
   "source": [
    "data_restored = np.load('face_dataframe_compressed.npz', allow_pickle=True)\n",
    "x_values = data_restored['arr_0']\n",
    "columns = data_restored['arr_1']\n",
    "\n",
    "df = pd.DataFrame(x_values, columns=columns)\n",
    "df"
   ]
  },
  {
   "cell_type": "code",
   "execution_count": 7,
   "id": "2dac8293",
   "metadata": {},
   "outputs": [],
   "source": [
    "# genereate unique key name + role for storing data in redis\n",
    "df['name_role'] = df['Name']+'#'+df['Role']"
   ]
  },
  {
   "cell_type": "code",
   "execution_count": 8,
   "id": "0929f672",
   "metadata": {},
   "outputs": [
    {
     "data": {
      "text/html": [
       "<div>\n",
       "<style scoped>\n",
       "    .dataframe tbody tr th:only-of-type {\n",
       "        vertical-align: middle;\n",
       "    }\n",
       "\n",
       "    .dataframe tbody tr th {\n",
       "        vertical-align: top;\n",
       "    }\n",
       "\n",
       "    .dataframe thead th {\n",
       "        text-align: right;\n",
       "    }\n",
       "</style>\n",
       "<table border=\"1\" class=\"dataframe\">\n",
       "  <thead>\n",
       "    <tr style=\"text-align: right;\">\n",
       "      <th></th>\n",
       "      <th>Name</th>\n",
       "      <th>Role</th>\n",
       "      <th>Facial Features</th>\n",
       "      <th>cosine</th>\n",
       "      <th>name_role</th>\n",
       "    </tr>\n",
       "  </thead>\n",
       "  <tbody>\n",
       "    <tr>\n",
       "      <th>0</th>\n",
       "      <td>Angelina Jolie</td>\n",
       "      <td>student</td>\n",
       "      <td>[0.43239492, 1.0748208, -0.12874822, -1.833274...</td>\n",
       "      <td>-0.055578</td>\n",
       "      <td>Angelina Jolie#student</td>\n",
       "    </tr>\n",
       "    <tr>\n",
       "      <th>1</th>\n",
       "      <td>Barack_Obama</td>\n",
       "      <td>teacher</td>\n",
       "      <td>[0.94851226, -0.5582868, 0.09495868, -1.279620...</td>\n",
       "      <td>-0.109103</td>\n",
       "      <td>Barack_Obama#teacher</td>\n",
       "    </tr>\n",
       "    <tr>\n",
       "      <th>2</th>\n",
       "      <td>Chris_Evans</td>\n",
       "      <td>student</td>\n",
       "      <td>[0.7200426, -1.4685223, -0.7779212, -1.460148,...</td>\n",
       "      <td>0.0282</td>\n",
       "      <td>Chris_Evans#student</td>\n",
       "    </tr>\n",
       "    <tr>\n",
       "      <th>3</th>\n",
       "      <td>Morgan_Freeman</td>\n",
       "      <td>teacher</td>\n",
       "      <td>[0.48528442, -0.619405, -0.4070305, 1.0686811,...</td>\n",
       "      <td>0.07118</td>\n",
       "      <td>Morgan_Freeman#teacher</td>\n",
       "    </tr>\n",
       "    <tr>\n",
       "      <th>4</th>\n",
       "      <td>Scarlett Johansson</td>\n",
       "      <td>student</td>\n",
       "      <td>[0.19131908, -0.48838148, -1.690325, 0.4423288...</td>\n",
       "      <td>0.013093</td>\n",
       "      <td>Scarlett Johansson#student</td>\n",
       "    </tr>\n",
       "  </tbody>\n",
       "</table>\n",
       "</div>"
      ],
      "text/plain": [
       "                 Name     Role  \\\n",
       "0      Angelina Jolie  student   \n",
       "1        Barack_Obama  teacher   \n",
       "2         Chris_Evans  student   \n",
       "3      Morgan_Freeman  teacher   \n",
       "4  Scarlett Johansson  student   \n",
       "\n",
       "                                     Facial Features    cosine  \\\n",
       "0  [0.43239492, 1.0748208, -0.12874822, -1.833274... -0.055578   \n",
       "1  [0.94851226, -0.5582868, 0.09495868, -1.279620... -0.109103   \n",
       "2  [0.7200426, -1.4685223, -0.7779212, -1.460148,...    0.0282   \n",
       "3  [0.48528442, -0.619405, -0.4070305, 1.0686811,...   0.07118   \n",
       "4  [0.19131908, -0.48838148, -1.690325, 0.4423288...  0.013093   \n",
       "\n",
       "                    name_role  \n",
       "0      Angelina Jolie#student  \n",
       "1        Barack_Obama#teacher  \n",
       "2         Chris_Evans#student  \n",
       "3      Morgan_Freeman#teacher  \n",
       "4  Scarlett Johansson#student  "
      ]
     },
     "execution_count": 8,
     "metadata": {},
     "output_type": "execute_result"
    }
   ],
   "source": [
    "df"
   ]
  },
  {
   "cell_type": "code",
   "execution_count": 9,
   "id": "93de0b42",
   "metadata": {},
   "outputs": [
    {
     "data": {
      "text/plain": [
       "5"
      ]
     },
     "execution_count": 9,
     "metadata": {},
     "output_type": "execute_result"
    }
   ],
   "source": [
    "# convert records to dictionary to store in redis\n",
    "records = df[['name_role','Facial Features']].to_dict(orient='records')\n",
    "len(records)"
   ]
  },
  {
   "cell_type": "markdown",
   "id": "013ff86f",
   "metadata": {},
   "source": [
    "## Save data in Redis\n",
    "Using Redis Hashes\n",
    "keyname = 'school:register'"
   ]
  },
  {
   "cell_type": "code",
   "execution_count": 10,
   "id": "0b6ca148",
   "metadata": {},
   "outputs": [],
   "source": [
    "for record in records:\n",
    "    name_role = record['name_role']\n",
    "    vector = record['Facial Features']\n",
    "    \n",
    "    # convert numpy array to bytes\n",
    "    vector_bytes = vector.tobytes()\n",
    "    \n",
    "    # save data to redis cloud\n",
    "    r.hset(name='school:register',key=name_role,value=vector_bytes)"
   ]
  },
  {
   "cell_type": "code",
   "execution_count": 11,
   "id": "2c50e26e",
   "metadata": {},
   "outputs": [
    {
     "data": {
      "text/plain": [
       "dtype('float32')"
      ]
     },
     "execution_count": 11,
     "metadata": {},
     "output_type": "execute_result"
    }
   ],
   "source": [
    "vector.dtype"
   ]
  },
  {
   "cell_type": "markdown",
   "id": "cc346f18",
   "metadata": {},
   "source": [
    "## Retrive Records from Redis"
   ]
  },
  {
   "cell_type": "code",
   "execution_count": 12,
   "id": "772524f8",
   "metadata": {},
   "outputs": [
    {
     "data": {
      "text/plain": [
       "b'Niral#Student'                 b'C\\xd4z\\xbf\\xf1$\\x9e\\xbe~\\xcd\\x7f=\\xfd\\xf6^\\x...\n",
       "b'Piyush#Student'                b'\\x05\\x13V\\xbf>\\x8aT?\"Uv\\xbf\\xfb5\\xae\\xbft\\xc...\n",
       "b'Harsh#Student'                 b'\\xe2:\\xb4>\\x0fi\\xc8\\xbe\\x1fb\\n>\\xe1\\x93\\x92>...\n",
       "b'Shreyash#Student'              b'\\xaak\"?\\x11\\xfa\\x1a\\xbf\\x10\\'D\\xbd\\xbd\\xdaQ=...\n",
       "b'Anshu#Student'                 b'h\\x0b\\xf2\\xbe\\\\\\xb5\\x0b\\xbf\\xe3\\xb1\\xb8>0+\\x...\n",
       "b'Shivam#Student#Shivam@1234'    b'g\\xc5\\'?\\x94\\x1d\\x94\\xbe\\x03\\x0f\\x00>\\xd2\\xe...\n",
       "b'Barack_Obama#teacher'          b'\\xb3\\xd1r?\\xe2\\xeb\\x0e\\xbf\\xb2y\\xc2=\\x9a\\xca...\n",
       "b'Morgan_Freeman#teacher'        b'3w\\xf8>S\\x91\\x1e\\xbfMf\\xd0\\xbe\\x8b\\xca\\x88?\\...\n",
       "b'Chris_Evans#student'           b'\\xb6T8?\\x8a\\xf8\\xbb\\xbf\\xd8%G\\xbf!\\xe6\\xba\\x...\n",
       "b'Shruti#Student'                b'r\\xd1\\xed\\xbd~y|\\xbek6\\xfe\\xbc\\x0c|\\xd4?\\x94...\n",
       "b'Angelina Jolie#student'        b'\\xdeb\\xdd>\\xba\\x93\\x89?\\x93\\xd6\\x03\\xbe\\xba\\...\n",
       "b'Scarlett Johansson#student'    b'&\\xe9C>#\\r\\xfa\\xbe\\x92\\\\\\xd8\\xbf\\xedx\\xe2>\\x...\n",
       "dtype: object"
      ]
     },
     "execution_count": 12,
     "metadata": {},
     "output_type": "execute_result"
    }
   ],
   "source": [
    "decoded_dictionary = r.hgetall(name='school:register')\n",
    "decoded_series = pd.Series(decoded_dictionary)\n",
    "decoded_series"
   ]
  },
  {
   "cell_type": "code",
   "execution_count": 13,
   "id": "a2e11f38",
   "metadata": {},
   "outputs": [
    {
     "name": "stdout",
     "output_type": "stream",
     "text": [
      "Index([             b'Niral#Student',             b'Piyush#Student',\n",
      "                    b'Harsh#Student',           b'Shreyash#Student',\n",
      "                    b'Anshu#Student', b'Shivam#Student#Shivam@1234',\n",
      "             b'Barack_Obama#teacher',     b'Morgan_Freeman#teacher',\n",
      "              b'Chris_Evans#student',             b'Shruti#Student',\n",
      "           b'Angelina Jolie#student', b'Scarlett Johansson#student'],\n",
      "      dtype='object')\n"
     ]
    }
   ],
   "source": [
    "# Convert each element of retrive_series from bytes to 32-bit float NumPy arrays\n",
    "decoded_series = decoded_series.apply(lambda x: np.frombuffer(x, dtype=np.float32))\n",
    "\n",
    "# Retrieve the index of retrive_series\n",
    "index = decoded_series.index\n",
    "\n",
    "# Print the retrieved index\n",
    "print(index)\n",
    "\n",
    "# Convert the index elements from bytes to strings\n",
    "index = list(map(lambda x: x.decode(), index))\n",
    "\n"
   ]
  },
  {
   "cell_type": "code",
   "execution_count": 14,
   "id": "a30595d6",
   "metadata": {},
   "outputs": [
    {
     "name": "stdout",
     "output_type": "stream",
     "text": [
      "['Niral#Student', 'Piyush#Student', 'Harsh#Student', 'Shreyash#Student', 'Anshu#Student', 'Shivam#Student#Shivam@1234', 'Barack_Obama#teacher', 'Morgan_Freeman#teacher', 'Chris_Evans#student', 'Shruti#Student', 'Angelina Jolie#student', 'Scarlett Johansson#student']\n"
     ]
    }
   ],
   "source": [
    "# Print the modified index after decoding\n",
    "print(index)"
   ]
  },
  {
   "cell_type": "code",
   "execution_count": 15,
   "id": "3f9c165e",
   "metadata": {},
   "outputs": [],
   "source": [
    "decoded_series.index = index"
   ]
  },
  {
   "cell_type": "code",
   "execution_count": 16,
   "id": "0ebe9976",
   "metadata": {},
   "outputs": [
    {
     "ename": "NameError",
     "evalue": "name 'retrive_series' is not defined",
     "output_type": "error",
     "traceback": [
      "\u001b[1;31m---------------------------------------------------------------------------\u001b[0m",
      "\u001b[1;31mNameError\u001b[0m                                 Traceback (most recent call last)",
      "Cell \u001b[1;32mIn[16], line 1\u001b[0m\n\u001b[1;32m----> 1\u001b[0m decoded_df \u001b[38;5;241m=\u001b[39m \u001b[43mretrive_series\u001b[49m\u001b[38;5;241m.\u001b[39mto_frame()\u001b[38;5;241m.\u001b[39mreset_index()\n\u001b[0;32m      2\u001b[0m decoded_df\u001b[38;5;241m.\u001b[39mcolumns \u001b[38;5;241m=\u001b[39m [\u001b[38;5;124m'\u001b[39m\u001b[38;5;124mname_role\u001b[39m\u001b[38;5;124m'\u001b[39m, \u001b[38;5;124m'\u001b[39m\u001b[38;5;124mfacial_features\u001b[39m\u001b[38;5;124m'\u001b[39m]\n\u001b[0;32m      3\u001b[0m decoded_df\n",
      "\u001b[1;31mNameError\u001b[0m: name 'retrive_series' is not defined"
     ]
    }
   ],
   "source": [
    "decoded_df = retrive_series.to_frame().reset_index()\n",
    "decoded_df.columns = ['name_role', 'facial_features']\n",
    "decoded_df"
   ]
  },
  {
   "cell_type": "code",
   "execution_count": 24,
   "id": "23724b37",
   "metadata": {},
   "outputs": [
    {
     "data": {
      "text/html": [
       "<div>\n",
       "<style scoped>\n",
       "    .dataframe tbody tr th:only-of-type {\n",
       "        vertical-align: middle;\n",
       "    }\n",
       "\n",
       "    .dataframe tbody tr th {\n",
       "        vertical-align: top;\n",
       "    }\n",
       "\n",
       "    .dataframe thead th {\n",
       "        text-align: right;\n",
       "    }\n",
       "</style>\n",
       "<table border=\"1\" class=\"dataframe\">\n",
       "  <thead>\n",
       "    <tr style=\"text-align: right;\">\n",
       "      <th></th>\n",
       "      <th>0</th>\n",
       "      <th>1</th>\n",
       "      <th>2</th>\n",
       "    </tr>\n",
       "  </thead>\n",
       "  <tbody>\n",
       "    <tr>\n",
       "      <th>0</th>\n",
       "      <td>Niral</td>\n",
       "      <td>Student</td>\n",
       "      <td>N/A</td>\n",
       "    </tr>\n",
       "    <tr>\n",
       "      <th>1</th>\n",
       "      <td>Piyush</td>\n",
       "      <td>Student</td>\n",
       "      <td>N/A</td>\n",
       "    </tr>\n",
       "    <tr>\n",
       "      <th>2</th>\n",
       "      <td>Harsh</td>\n",
       "      <td>Student</td>\n",
       "      <td>N/A</td>\n",
       "    </tr>\n",
       "    <tr>\n",
       "      <th>3</th>\n",
       "      <td>Shreyash</td>\n",
       "      <td>Student</td>\n",
       "      <td>N/A</td>\n",
       "    </tr>\n",
       "    <tr>\n",
       "      <th>4</th>\n",
       "      <td>Anshu</td>\n",
       "      <td>Student</td>\n",
       "      <td>N/A</td>\n",
       "    </tr>\n",
       "    <tr>\n",
       "      <th>5</th>\n",
       "      <td>Shivam</td>\n",
       "      <td>Student</td>\n",
       "      <td>Shivam@1234</td>\n",
       "    </tr>\n",
       "    <tr>\n",
       "      <th>6</th>\n",
       "      <td>Barack Obama</td>\n",
       "      <td>Teacher</td>\n",
       "      <td>N/A</td>\n",
       "    </tr>\n",
       "    <tr>\n",
       "      <th>7</th>\n",
       "      <td>Morgan Freeman</td>\n",
       "      <td>Teacher</td>\n",
       "      <td>N/A</td>\n",
       "    </tr>\n",
       "    <tr>\n",
       "      <th>8</th>\n",
       "      <td>Chris Evans</td>\n",
       "      <td>Student</td>\n",
       "      <td>N/A</td>\n",
       "    </tr>\n",
       "    <tr>\n",
       "      <th>9</th>\n",
       "      <td>Shruti</td>\n",
       "      <td>Student</td>\n",
       "      <td>N/A</td>\n",
       "    </tr>\n",
       "    <tr>\n",
       "      <th>10</th>\n",
       "      <td>Angelina jolie</td>\n",
       "      <td>Student</td>\n",
       "      <td>N/A</td>\n",
       "    </tr>\n",
       "    <tr>\n",
       "      <th>11</th>\n",
       "      <td>Scarlett johansson</td>\n",
       "      <td>Student</td>\n",
       "      <td>N/A</td>\n",
       "    </tr>\n",
       "  </tbody>\n",
       "</table>\n",
       "</div>"
      ],
      "text/plain": [
       "                     0        1            2\n",
       "0                Niral  Student          N/A\n",
       "1               Piyush  Student          N/A\n",
       "2                Harsh  Student          N/A\n",
       "3             Shreyash  Student          N/A\n",
       "4                Anshu  Student          N/A\n",
       "5               Shivam  Student  Shivam@1234\n",
       "6         Barack Obama  Teacher          N/A\n",
       "7       Morgan Freeman  Teacher          N/A\n",
       "8          Chris Evans  Student          N/A\n",
       "9               Shruti  Student          N/A\n",
       "10      Angelina jolie  Student          N/A\n",
       "11  Scarlett johansson  Student          N/A"
      ]
     },
     "execution_count": 24,
     "metadata": {},
     "output_type": "execute_result"
    }
   ],
   "source": [
    "        decoded_dictionary = r.hgetall(name='school:register')\n",
    "        decoded_series = pd.Series(decoded_dictionary)\n",
    "        # Convert each element of retrive_series from bytes to 32-bit float NumPy arrays\n",
    "        decoded_series = decoded_series.apply(lambda x: np.frombuffer(x, dtype=np.float32))\n",
    "\n",
    "        # Retrieve the index of retrive_series\n",
    "        index = decoded_series.index\n",
    "\n",
    "        # Convert the index elements from bytes to strings\n",
    "        index = list(map(lambda x: x.decode(), index))\n",
    "        decoded_series.index = index\n",
    "        decoded_df = decoded_series.to_frame().reset_index()\n",
    "        decoded_df.columns = ['name_role', 'facial_features']\n",
    "        decoded_df.rename(columns={'facial_features': 'Facial Features'}, inplace=True)\n",
    "        # Split by '#' and create a new DataFrame with two columns 'Name' and 'Role'\n",
    "        temp_df = decoded_df['name_role'].str.split('#', expand=True)\n",
    "\n",
    "        # Split each part by '_' and capitalize each word\n",
    "        temp_df.map(lambda x: ' '.join([word.capitalize() for word in x.split('_')]) if x is not None  else 'N/A')"
   ]
  },
  {
   "cell_type": "code",
   "execution_count": null,
   "id": "41c4f883-7451-46c7-8c47-587f851c9267",
   "metadata": {},
   "outputs": [],
   "source": []
  }
 ],
 "metadata": {
  "kernelspec": {
   "display_name": "Python 3 (ipykernel)",
   "language": "python",
   "name": "python3"
  },
  "language_info": {
   "codemirror_mode": {
    "name": "ipython",
    "version": 3
   },
   "file_extension": ".py",
   "mimetype": "text/x-python",
   "name": "python",
   "nbconvert_exporter": "python",
   "pygments_lexer": "ipython3",
   "version": "3.12.3"
  }
 },
 "nbformat": 4,
 "nbformat_minor": 5
}
